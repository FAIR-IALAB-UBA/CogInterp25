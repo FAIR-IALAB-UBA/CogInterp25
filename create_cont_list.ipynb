{
 "cells": [
  {
   "cell_type": "code",
   "execution_count": 1,
   "metadata": {},
   "outputs": [],
   "source": [
    "import pandas as pd\n",
    "#combinaciones = pd.read_excel('combinaciones.xlsx')\n",
    "variables = pd.read_excel('variables_prompt.xlsx')"
   ]
  },
  {
   "cell_type": "code",
   "execution_count": 2,
   "metadata": {},
   "outputs": [],
   "source": [
    "import random\n",
    "# Initialize a list to store the new combinations\n",
    "new_combinations = []\n",
    "# Iterate over the variables_df\n",
    "for index, row in variables.iterrows():\n",
    "    cause = row['Cause']\n",
    "    effect = row['Effect']\n",
    "    diccionario = {}\n",
    "\n",
    "    listas = []\n",
    "    for i in range(1,11):\n",
    "        combinaciones=[]\n",
    "        obs = random.randint(20,100)\n",
    "        mitad = int(obs/2)\n",
    "        control = int(mitad * 0.8)\n",
    "        resto = mitad - control\n",
    "        for _ in range(control):\n",
    "            var1 = \"False\"\n",
    "            var2 = \"True\"\n",
    "            combination = f\"[{var1}, {var2}]\"  # Maintain the format\n",
    "            combinaciones.append(combination)\n",
    "        for _ in range(resto):\n",
    "            var1 = \"False\"\n",
    "            var2 = \"False\"\n",
    "            combination = f\"[{var1}, {var2}]\"  # Maintain the format\n",
    "            combinaciones.append(combination)\n",
    "\n",
    "        for _ in range(control):\n",
    "            var1 = \"True\"\n",
    "            var2 = \"True\"\n",
    "            combination = f\"[{var1}, {var2}]\"  # Maintain the format\n",
    "            combinaciones.append(combination)\n",
    "        for _ in range(resto):\n",
    "            var1 = \"True\"\n",
    "            var2 = \"False\"\n",
    "            combination = f\"[{var1}, {var2}]\"  # Maintain the format\n",
    "            combinaciones.append(combination)\n",
    "        \n",
    "        diccionario[f'lista {i}'] = combinaciones\n",
    "    # Append the pair ID and its combinations to the main list\n",
    "    new_combinations.append(diccionario)\n",
    "\n",
    "variables['gen_medical_records'] = new_combinations"
   ]
  },
  {
   "cell_type": "code",
   "execution_count": 3,
   "metadata": {},
   "outputs": [],
   "source": [
    "variables.to_excel('gen_medical_records.xlsx', index=False)"
   ]
  }
 ],
 "metadata": {
  "kernelspec": {
   "display_name": "Python 3",
   "language": "python",
   "name": "python3"
  },
  "language_info": {
   "codemirror_mode": {
    "name": "ipython",
    "version": 3
   },
   "file_extension": ".py",
   "mimetype": "text/x-python",
   "name": "python",
   "nbconvert_exporter": "python",
   "pygments_lexer": "ipython3",
   "version": "3.13.1"
  }
 },
 "nbformat": 4,
 "nbformat_minor": 2
}
